{
 "cells": [
  {
   "cell_type": "code",
   "execution_count": 25,
   "metadata": {},
   "outputs": [],
   "source": [
    "from datasets import load_dataset\n",
    "from tqdm import tqdm\n",
    "import json\n",
    "import pandas as pd"
   ]
  },
  {
   "cell_type": "markdown",
   "metadata": {},
   "source": [
    "### nvidia/Llama-Nemotron-Post-Training-Dataset"
   ]
  },
  {
   "cell_type": "code",
   "execution_count": 2,
   "metadata": {},
   "outputs": [
    {
     "name": "stderr",
     "output_type": "stream",
     "text": [
      "Processing: 708920it [05:32, 2130.67it/s]\n"
     ]
    }
   ],
   "source": [
    "science_dataset = load_dataset(\"nvidia/Llama-Nemotron-Post-Training-Dataset\", \n",
    "                               split=\"science\", \n",
    "                               streaming=True\n",
    "                               )\n",
    "\n",
    "results = []\n",
    "\n",
    "for i, example in tqdm(enumerate(science_dataset), desc=\"Processing\"):\n",
    "    try:\n",
    "        problem = example[\"input\"][0][\"content\"]\n",
    "        answer = example[\"output\"].split(\"</think>\")[1].strip()\n",
    "    except Exception as e:\n",
    "        answer = example[\"output\"][-1000:]\n",
    "    results.append({\"problem_id\": i, \"problem\": problem, \"answer\": answer})\n",
    "\n",
    "# Write to JSON file\n",
    "with open(\"nemotron_posttrain_science.json\", mode=\"w\", encoding=\"utf-8\") as jsonfile:\n",
    "    json.dump(results, jsonfile, ensure_ascii=False, indent=2)\n",
    "    \n"
   ]
  },
  {
   "cell_type": "markdown",
   "metadata": {},
   "source": [
    "### AI-MO/NuminaMath-1.5\n",
    "- Filter out synthetically generated ones since we saw wrong answers before\n",
    "- Filter out proof type questions since they are non-verifiable\n",
    "- filter on solution_is_valid field\n",
    "- focus on olympiads questions"
   ]
  },
  {
   "cell_type": "code",
   "execution_count": 28,
   "metadata": {},
   "outputs": [
    {
     "name": "stderr",
     "output_type": "stream",
     "text": [
      "Processing: 896215it [03:39, 4074.99it/s]\n"
     ]
    },
    {
     "name": "stdout",
     "output_type": "stream",
     "text": [
      "84638\n"
     ]
    }
   ],
   "source": [
    "math_dataset = load_dataset(\"AI-MO/NuminaMath-1.5\", split=\"train\", streaming=True)\n",
    "\n",
    "results = []\n",
    "\n",
    "for i, example in tqdm(enumerate(math_dataset), desc=\"Processing\"):\n",
    "    if example[\"synthetic\"] != False:\n",
    "        continue\n",
    "    if example[\"solution_is_valid\"] != \"Yes\" or example[\"problem_is_valid\"] != \"Yes\":\n",
    "        continue\n",
    "    if example[\"question_type\"] != \"math-word-problem\" or example[\"answer\"] == \"proof\":\n",
    "        continue\n",
    "    if example[\"answer\"] is None or example[\"answer\"] == \"\":\n",
    "        continue\n",
    "    if example[\"solution\"] is None or example[\"solution\"] == \"\":\n",
    "        continue\n",
    "    if example[\"source\"] != \"olympiads\":\n",
    "        continue\n",
    "    problem = example[\"problem\"]\n",
    "    solution = example[\"solution\"]\n",
    "    answer = example[\"answer\"]\n",
    "    results.append({\"problem_id\": i, \"problem\": problem, \"answer\": answer, \"solution\": solution})\n",
    "\n",
    "# Write to JSON file\n",
    "with open(\"raw_json/numina_math_1p5_filtered.json\", mode=\"w\", encoding=\"utf-8\") as jsonfile:\n",
    "    json.dump(results, jsonfile, ensure_ascii=False, indent=2)\n",
    "\n",
    "print(len(results))\n",
    "\n",
    "# 98086\n"
   ]
  },
  {
   "cell_type": "code",
   "execution_count": 29,
   "metadata": {},
   "outputs": [],
   "source": [
    "with open(\"raw_json/numina_math_1p5_filtered.json\", mode=\"r\", encoding=\"utf-8\") as f:\n",
    "        data = json.load(f)"
   ]
  },
  {
   "cell_type": "markdown",
   "metadata": {},
   "source": [
    "### zwhe99/DeepMath-103K"
   ]
  },
  {
   "cell_type": "code",
   "execution_count": 24,
   "metadata": {},
   "outputs": [
    {
     "name": "stderr",
     "output_type": "stream",
     "text": [
      "Downloading readme: 100%|██████████| 6.44k/6.44k [00:00<00:00, 164kB/s]\n",
      "Processing: 103110it [03:01, 569.64it/s] \n"
     ]
    }
   ],
   "source": [
    "math_dataset = load_dataset(\"zwhe99/DeepMath-103K\", split=\"train\", streaming=True)\n",
    "\n",
    "results = []\n",
    "\n",
    "for i, example in tqdm(enumerate(math_dataset), desc=\"Processing\"):\n",
    "    problem = example[\"question\"]\n",
    "    answer = example[\"final_answer\"]\n",
    "    results.append({\"problem_id\": i, \"problem\": problem, \"answer\": answer})\n",
    "\n",
    "# Write to JSON file\n",
    "with open(\"deepmath-103k.json\", mode=\"w\", encoding=\"utf-8\") as jsonfile:\n",
    "    json.dump(results, jsonfile, ensure_ascii=False, indent=2)\n",
    "\n",
    "\n"
   ]
  },
  {
   "cell_type": "markdown",
   "metadata": {},
   "source": [
    "### simplescaling/data_ablation_full59K"
   ]
  },
  {
   "cell_type": "code",
   "execution_count": 22,
   "metadata": {},
   "outputs": [
    {
     "name": "stderr",
     "output_type": "stream",
     "text": [
      "Downloading readme: 100%|██████████| 1.07k/1.07k [00:00<00:00, 22.0kB/s]\n",
      "Downloading data: 100%|██████████| 19/19 [01:01<00:00,  3.25s/files]\n",
      "Generating train split: 100%|██████████| 58986/58986 [00:40<00:00, 1452.22 examples/s]\n"
     ]
    }
   ],
   "source": [
    "# dataset = load_dataset(\"simplescaling/data_ablation_full59K\", split=\"train\")\n",
    "\n",
    "\n"
   ]
  },
  {
   "cell_type": "code",
   "execution_count": 23,
   "metadata": {},
   "outputs": [
    {
     "data": {
      "text/plain": [
       "{'solution': 'Since $1 \\\\le \\\\sqrt{1} < \\\\sqrt{2} < \\\\sqrt{3} < 2,$ the first three terms of the sum are equal to $1.$ Then, since $2 \\\\le \\\\sqrt{4} < \\\\sqrt{5} < \\\\dots < \\\\sqrt{8} < 3,$ the next five terms equal $2.$ Then, since $3 \\\\le \\\\sqrt{9} < \\\\sqrt{10} < \\\\dots < \\\\sqrt{15} < 4,$ the next seven terms equal $3.$ Finally, the last term equals $\\\\lfloor 4 \\\\rfloor = 4.$ So the overall sum is \\\\[3(1) + 5(2) + 7(3) + 4 = 3 + 10 + 21 + 4 = \\\\boxed{38}.\\\\]',\n",
       " 'question': 'The symbol $\\\\lfloor x \\\\rfloor$ denotes the largest integer not exceeding $x$. For example, $\\\\lfloor 3 \\\\rfloor = 3,$ and $\\\\lfloor 9/2 \\\\rfloor = 4.$ Compute \\\\[\\\\lfloor \\\\sqrt{1} \\\\rfloor + \\\\lfloor \\\\sqrt{2} \\\\rfloor + \\\\lfloor \\\\sqrt{3} \\\\rfloor + \\\\cdots + \\\\lfloor \\\\sqrt{16} \\\\rfloor.\\\\]',\n",
       " 'cot_type': 'math',\n",
       " 'source_type': 'qfq/openaimath/Intermediate Algebra',\n",
       " 'metadata': \"{'answer': '38', 'subject': 'Intermediate Algebra', 'level': 2, 'unique_id': 'train/intermediate_algebra/1563.json'}\",\n",
       " 'cot': None,\n",
       " 'thinking_trajectories': [\"\\nThe problem asks for the computation of the sum of the floor of the square roots of the integers from 1 to 16. The sum is given by $S = \\\\sum_{n=1}^{16} \\\\lfloor \\\\sqrt{n} \\\\rfloor$.\\n\\nWe need to evaluate $\\\\lfloor \\\\sqrt{n} \\\\rfloor$ for each $n$ from 1 to 16 and then sum these values.\\n\\nLet's list the values of $\\\\lfloor \\\\sqrt{n} \\\\rfloor$ for $n = 1, 2, \\\\ldots, 16$:\\n\\\\begin{align*} \\\\lfloor \\\\sqrt{1} \\\\rfloor &= \\\\lfloor 1 \\\\rfloor = 1 \\\\\\\\ \\\\lfloor \\\\sqrt{2} \\\\rfloor &= \\\\lfloor 1.414... \\\\rfloor = 1 \\\\\\\\ \\\\lfloor \\\\sqrt{3} \\\\rfloor &= \\\\lfloor 1.732... \\\\rfloor = 1 \\\\\\\\ \\\\lfloor \\\\sqrt{4} \\\\rfloor &= \\\\lfloor 2 \\\\rfloor = 2 \\\\\\\\ \\\\lfloor \\\\sqrt{5} \\\\rfloor &= \\\\lfloor 2.236... \\\\rfloor = 2 \\\\\\\\ \\\\lfloor \\\\sqrt{6} \\\\rfloor &= \\\\lfloor 2.449... \\\\rfloor = 2 \\\\\\\\ \\\\lfloor \\\\sqrt{7} \\\\rfloor &= \\\\lfloor 2.645... \\\\rfloor = 2 \\\\\\\\ \\\\lfloor \\\\sqrt{8} \\\\rfloor &= \\\\lfloor 2.828... \\\\rfloor = 2 \\\\\\\\ \\\\lfloor \\\\sqrt{9} \\\\rfloor &= \\\\lfloor 3 \\\\rfloor = 3 \\\\\\\\ \\\\lfloor \\\\sqrt{10} \\\\rfloor &= \\\\lfloor 3.162... \\\\rfloor = 3 \\\\\\\\ \\\\lfloor \\\\sqrt{11} \\\\rfloor &= \\\\lfloor 3.316... \\\\rfloor = 3 \\\\\\\\ \\\\lfloor \\\\sqrt{12} \\\\rfloor &= \\\\lfloor 3.464... \\\\rfloor = 3 \\\\\\\\ \\\\lfloor \\\\sqrt{13} \\\\rfloor &= \\\\lfloor 3.605... \\\\rfloor = 3 \\\\\\\\ \\\\lfloor \\\\sqrt{14} \\\\rfloor &= \\\\lfloor 3.741... \\\\rfloor = 3 \\\\\\\\ \\\\lfloor \\\\sqrt{15} \\\\rfloor &= \\\\lfloor 3.872... \\\\rfloor = 3 \\\\\\\\ \\\\lfloor \\\\sqrt{16} \\\\rfloor &= \\\\lfloor 4 \\\\rfloor = 4 \\\\end{align*}\\n\\nNow, let's sum these values:\\n$S = 1 + 1 + 1 + 2 + 2 + 2 + 2 + 2 + 3 + 3 + 3 + 3 + 3 + 3 + 3 + 4$\\n\\nWe can group the terms with the same value:\\nThe value 1 appears 3 times (for $n=1, 2, 3$).\\nThe value 2 appears 5 times (for $n=4, 5, 6, 7, 8$).\\nThe value 3 appears 7 times (for $n=9, 10, 11, 12, 13, 14, 15$).\\nThe value 4 appears 1 time (for $n=16$).\\n\\nSo, the sum is $S = (1 \\\\times 3) + (2 \\\\times 5) + (3 \\\\times 7) + (4 \\\\times 1)$.\\n$S = 3 + 10 + 21 + 4 = 13 + 21 + 4 = 34 + 4 = 38$.\\n\\nThe sum is 38.\\n\\nAlternatively, we can think about when $\\\\lfloor \\\\sqrt{n} \\\\rfloor = k$ for some integer $k$.\\n$\\\\lfloor \\\\sqrt{n} \\\\rfloor = k \\\\iff k \\\\le \\\\sqrt{n} < k+1 \\\\iff k^2 \\\\le n < (k+1)^2$.\\n\\nFor a given integer $k$, the values of $n$ for which $\\\\lfloor \\\\sqrt{n} \\\\rfloor = k$ are $n = k^2, k^2+1, \\\\ldots, (k+1)^2 - 1$.\\nThe number of such values of $n$ is $(k+1)^2 - 1 - k^2 + 1 = (k^2 + 2k + 1) - k^2 = 2k + 1$.\\nSo, the value $k$ appears $2k+1$ times in the sum.\\n\\nLet's check this with the values we calculated:\\nIf $k=1$, then $1^2 \\\\le n < 2^2 \\\\implies 1 \\\\le n < 4$, so $n = 1, 2, 3$. The value of $\\\\lfloor \\\\sqrt{n} \\\\rfloor$ is 1 for these 3 values. Here $2k+1 = 2(1)+1 = 3$.\\nIf $k=2$, then $2^2 \\\\le n < 3^2 \\\\implies 4 \\\\le n < 9$, so $n = 4, 5, 6, 7, 8$. The value of $\\\\lfloor \\\\sqrt{n} \\\\rfloor$ is 2 for these 5 values. Here $2k+1 = 2(2)+1 = 5$.\\nIf $k=3$, then $3^2 \\\\le n < 4^2 \\\\implies 9 \\\\le n < 16$, so $n = 9, 10, 11, 12, 13, 14, 15$. The value of $\\\\lfloor \\\\sqrt{n} \\\\rfloor$ is 3 for these 7 values. Here $2k+1 = 2(3)+1 = 7$.\\nIf $k=4$, then $4^2 \\\\le n < 5^2 \\\\implies 16 \\\\le n < 25$, so $n = 16, 17, \\\\ldots, 24$.\\n\\nThe sum can be written as:\\n$S = \\\\sum_{n=1}^{16} \\\\lfloor \\\\sqrt{n} \\\\rfloor$\\n\\nThe maximum value of $\\\\lfloor \\\\sqrt{n} \\\\rfloor$ for $1 \\\\le n \\\\le 16$ is $\\\\lfloor \\\\sqrt{16} \\\\rfloor = 4$.\\nThe possible values of $\\\\lfloor \\\\sqrt{n} \\\\rfloor$ are 1, 2, 3, 4.\\n\\nConsider the terms in the sum where $\\\\lfloor \\\\sqrt{n} \\\\rfloor = 1$. This happens when $1 \\\\le n \\\\le 3$. There are $3$ such terms, each equal to 1. Contribution = $1 \\\\times 3$.\\nConsider the terms in the sum where $\\\\lfloor \\\\sqrt{n} \\\\rfloor = 2$. This happens when $4 \\\\le n \\\\le 8$. There are $5$ such terms, each equal to 2. Contribution = $2 \\\\times 5$.\\nConsider the terms in the sum where $\\\\lfloor \\\\sqrt{n} \\\\rfloor = 3$. This happens when $9 \\\\le n \\\\le 15$. There are $7$ such terms, each equal to 3. Contribution = $3 \\\\times 7$.\\nConsider the terms in the sum where $\\\\lfloor \\\\sqrt{n} \\\\rfloor = 4$. This happens when $n = 16$. There is $1$ such term, equal to 4. Contribution = $4 \\\\times 1$.\\n\\nThe sum is $1 \\\\times 3 + 2 \\\\times 5 + 3 \\\\times 7 + 4 \\\\times 1 = 3 + 10 + 21 + 4 = 38$.\\n\\nLet's generalize this approach for the sum $\\\\sum_{n=1}^{m} \\\\lfloor \\\\sqrt{n} \\\\rfloor$.\\nLet $K = \\\\lfloor \\\\sqrt{m} \\\\rfloor$. The possible values of $\\\\lfloor \\\\sqrt{n} \\\\rfloor$ are $1, 2, \\\\ldots, K$.\\n\\nFor a given $k$, $1 \\\\le k < K$, the value $\\\\lfloor \\\\sqrt{n} \\\\rfloor = k$ occurs when $k^2 \\\\le n < (k+1)^2$.\\nThe values of $n$ are $k^2, k^2+1, \\\\ldots, (k+1)^2 - 1$.\\nThe number of such values is $(k+1)^2 - k^2 = 2k+1$.\\nThe contribution to the sum from these terms is $k \\\\times (2k+1)$.\\n\\nFor $k=K$, the value $\\\\lfloor \\\\sqrt{n} \\\\rfloor = K$ occurs when $K^2 \\\\le n \\\\le m$.\\nThe values of $n$ are $K^2, K^2+1, \\\\ldots, m$.\\nThe number of such values is $m - K^2 + 1$.\\nThe contribution to the sum from these terms is $K \\\\times (m - K^2 + 1)$.\\n\\nSo, the sum is $\\\\sum_{k=1}^{K-1} k(2k+1) + K(m - K^2 + 1)$.\\n\\nIn our case, $m=16$, so $K = \\\\lfloor \\\\sqrt{16} \\\\rfloor = 4$.\\nThe sum is $\\\\sum_{k=1}^{3} k(2k+1) + 4(16 - 4^2 + 1)$.\\n$\\\\sum_{k=1}^{3} (2k^2 + k) = (2(1)^2 + 1) + (2(2)^2 + 2) + (2(3)^2 + 3)$\\n$= (2+1) + (8+2) + (18+3) = 3 + 10 + 21 = 34$.\\n\\nThe second part is $4(16 - 16 + 1) = 4(1) = 4$.\\n\\nThe total sum is $34 + 4 = 38$. This matches the previous result.\\n\\nLet's verify the formula with a smaller example.\\nCompute $\\\\lfloor \\\\sqrt{1} \\\\rfloor + \\\\lfloor \\\\sqrt{2} \\\\rfloor + \\\\lfloor \\\\sqrt{3} \\\\rfloor$.\\nHere $m=3$, $K = \\\\lfloor \\\\sqrt{3} \\\\rfloor = 1$.\\nThe sum is $\\\\sum_{k=1}^{0} k(2k+1) + 1(3 - 1^2 + 1)$.\\nThe first sum is empty, so its value is 0.\\nThe second part is $1(3 - 1 + 1) = 1(3) = 3$.\\nThe terms are $\\\\lfloor \\\\sqrt{1} \\\\rfloor = 1, \\\\lfloor \\\\sqrt{2} \\\\rfloor = 1, \\\\lfloor \\\\sqrt{3} \\\\rfloor = 1$. Sum = $1+1+1 = 3$. The formula works.\\n\\nCompute $\\\\lfloor \\\\sqrt{1} \\\\rfloor + \\\\cdots + \\\\lfloor \\\\sqrt{8} \\\\rfloor$.\\nHere $m=8$, $K = \\\\lfloor \\\\sqrt{8} \\\\rfloor = 2$.\\nThe sum is $\\\\sum_{k=1}^{1} k(2k+1) + 2(8 - 2^2 + 1)$.\\n$\\\\sum_{k=1}^{1} k(2k+1) = 1(2(1)+1) = 1(3) = 3$.\\nThe second part is $2(8 - 4 + 1) = 2(5) = 10$.\\nThe total sum is $3 + 10 = 13$.\\n\\nLet's verify this directly:\\n$\\\\lfloor \\\\sqrt{1} \\\\rfloor = 1$\\n$\\\\lfloor \\\\sqrt{2} \\\\rfloor = 1$\\n$\\\\lfloor \\\\sqrt{3} \\\\rfloor = 1$\\n$\\\\lfloor \\\\sqrt{4} \\\\rfloor = 2$\\n$\\\\lfloor \\\\sqrt{5} \\\\rfloor = 2$\\n$\\\\lfloor \\\\sqrt{6} \\\\rfloor = 2$\\n$\\\\lfloor \\\\sqrt{7} \\\\rfloor = 2$\\n$\\\\lfloor \\\\sqrt{8} \\\\rfloor = 2$\\nSum = $1+1+1+2+2+2+2+2 = 3 + 10 = 13$. The formula works.\\n\\nConsider the sum as grouping terms by the value of $\\\\lfloor \\\\sqrt{n} \\\\rfloor$.\\nThe values of $\\\\lfloor \\\\sqrt{n} \\\\rfloor$ range from $\\\\lfloor \\\\sqrt{1} \\\\rfloor = 1$ to $\\\\lfloor \\\\sqrt{16} \\\\rfloor = 4$.\\n\\nWhen $\\\\lfloor \\\\sqrt{n} \\\\rfloor = 1$, $1 \\\\le n \\\\le 3$. (3 terms)\\nWhen $\\\\lfloor \\\\sqrt{n} \\\\rfloor = 2, 4 \\\\le n \\\\le 8$. (5 terms)\\nWhen $\\\\lfloor \\\\sqrt{n} \\\\rfloor = 3, 9 \\\\le n \\\\le 15$. (7 terms)\\nWhen $\\\\lfloor \\\\sqrt{n} \\\\rfloor = 4, n = 16$. (1 term)\\n\\nThe sum is $1 \\\\times (\\\\text{number of times } \\\\lfloor \\\\sqrt{n} \\\\rfloor = 1) + 2 \\\\times (\\\\text{number of times } \\\\lfloor \\\\sqrt{n} \\\\rfloor = 2) + \\\\cdots$\\n\\nNumber of times $\\\\lfloor \\\\sqrt{n} \\\\rfloor = k$:\\nThis occurs when $k \\\\le \\\\sqrt{n} < k+1$, so $k^2 \\\\le n < (k+1)^2$.\\nThe integers $n$ are $k^2, k^2+1, \\\\ldots, (k+1)^2 - 1$.\\nThe number of such integers is $(k+1)^2 - 1 - k^2 + 1 = (k+1)^2 - k^2 = 2k+1$.\\n\\nHowever, this is valid only if the range of $n$ covers all these values.\\nIn our case, the maximum value of $n$ is 16.\\n\\nIf $k=1$, $\\\\lfloor \\\\sqrt{n} \\\\rfloor = 1$ for $n=1, 2, 3$. Number of times = 3.\\nIf $k=2$, $\\\\lfloor \\\\sqrt{n} \\\\rfloor = 2$ for $n=4, 5, 6, 7, 8$. Number of times = 5.\\nIf $k=3$, $\\\\lfloor \\\\sqrt{n} \\\\rfloor = 3$ for $n=9, 10, 11, 12, 13, 14, 15$. Number of times = 7.\\nIf $k=4$, $\\\\lfloor \\\\sqrt{n} \\\\rfloor = 4$ for $n=16$. Number of times = 1.\\n\\nThe sum is $\\\\sum_{k=1}^{4} k \\\\times (\\\\text{number of times } \\\\lfloor \\\\sqrt{n} \\\\rfloor = k \\\\text{ for } 1 \\\\le n \\\\le 16)$.\\n\\nCase 1: $k=1$. $\\\\lfloor \\\\sqrt{n} \\\\rfloor = 1 \\\\implies 1 \\\\le n < 4$. Values of $n$ are 1, 2, 3. Number of times = 3.\\nCase 2: $k=2$. $\\\\lfloor \\\\sqrt{n} \\\\rfloor = 2 \\\\implies 4 \\\\le n < 9$. Values of $n$ are 4, 5, 6, 7, 8. Number of times = 5.\\nCase 3: $k=3$. $\\\\lfloor \\\\sqrt{n} \\\\rfloor = 3 \\\\implies 9 \\\\le n < 16$. Values of $n$ are 9, 10, 11, 12, 13, 14, 15. Number of times = 7.\\nCase 4: $k=4$. $\\\\lfloor \\\\sqrt{n} \\\\rfloor = 4 \\\\implies 16 \\\\le n < 25$. The relevant value of $n$ in the range $1 \\\\le n \\\\le 16$ is $n=16$. Number of times = 1.\\n\\nThe sum is $1 \\\\times 3 + 2 \\\\times 5 + 3 \\\\times 7 + 4 \\\\times 1 = 3 + 10 + 21 + 4 = 38$.\\n\\nWe can think of the problem geometrically.\\nConsider the graph of $y = \\\\lfloor \\\\sqrt{x} \\\\rfloor$.\\nFor $1 \\\\le x < 4$, $\\\\lfloor \\\\sqrt{x} \\\\rfloor = 1$.\\nFor $4 \\\\le x < 9$, $\\\\lfloor \\\\sqrt{x} \\\\rfloor = 2$.\\nFor $9 \\\\le x < 16$, $\\\\lfloor \\\\sqrt{x} \\\\rfloor = 3$.\\nFor $16 \\\\le x < 25$, $\\\\lfloor \\\\sqrt{x} \\\\rfloor = 4$.\\n\\nThe sum is $\\\\sum_{n=1}^{16} f(n)$ where $f(n) = \\\\lfloor \\\\sqrt{n} \\\\rfloor$.\\n\\nConsider the intervals where $\\\\lfloor \\\\sqrt{n} \\\\rfloor$ is constant:\\n$\\\\lfloor \\\\sqrt{n} \\\\rfloor = 1$ for $n=1, 2, 3$.\\n$\\\\lfloor \\\\sqrt{n} \\\\rfloor = 2$ for $n=4, 5, 6, 7, 8$.\\n$\\\\lfloor \\\\sqrt{n} \\\\rfloor = 3$ for $n=9, 10, 11, 12, 13, 14, 15$.\\n$\\\\lfloor \\\\sqrt{n} \\\\rfloor = 4$ for $n=16$.\\n\\nThe sum can be written as:\\n$1 \\\\times (\\\\text{number of integers } n \\\\in [1, 16] \\\\text{ such that } 1 \\\\le \\\\sqrt{n} < 2)$\\n$+ 2 \\\\times (\\\\text{number of integers } n \\\\in [1, 16] \\\\text{ such that } 2 \\\\le \\\\sqrt{n} < 3)$\\n$+ 3 \\\\times (\\\\text{number of integers } n \\\\in [1, 16] \\\\text{ such that } 3 \\\\le \\\\sqrt{n} < 4)$\\n$+ 4 \\\\times (\\\\text{number of integers } n \\\\in [1, 16] \\\\text{ such that } 4 \\\\le \\\\sqrt{n} < 5)$\\n\\nInterval 1: $1 \\\\le \\\\sqrt{n} < 2 \\\\implies 1 \\\\le n < 4$. Integers are 1, 2, 3. Count = 3.\\nInterval 2: $2 \\\\le \\\\sqrt{n} < 3 \\\\implies 4 \\\\le n < 9$. Integers are 4, 5, 6, 7, 8. Count = 5.\\nInterval 3: $3 \\\\le \\\\sqrt{n} < 4 \\\\implies 9 \\\\le n < 16$. Integers are 9, 10, 11, 12, 13, 14, 15. Count = 7.\\nInterval 4: $4 \\\\le \\\\sqrt{n} < 5 \\\\implies 16 \\\\le n < 25$. Integer in the range $[1, 16]$ is 16. Count = 1.\\n\\nSum $= 1 \\\\times 3 + 2 \\\\times 5 + 3 \\\\times 7 + 4 \\\\times 1 = 3 + 10 + 21 + 4 = 38$.\\n\\nThe problem is straightforward and involves careful evaluation of the floor function.\\nThe generalization helps to understand the structure of the sum.\\n\\nConsider the inverse problem: Given a sum, find the upper limit.\\nSuppose the sum is $\\\\lfloor \\\\sqrt{1} \\\\rfloor + \\\\cdots + \\\\lfloor \\\\sqrt{m} \\\\rfloor = S$.\\nWe can estimate $S$ by integrating $\\\\sqrt{x}$.\\n$\\\\int_1^m \\\\sqrt{x} dx = [\\\\frac{2}{3} x^{3/2}]_1^m = \\\\frac{2}{3} (m^{3/2} - 1)$.\\n\\nLet's check with $m=16$, $S=38$.\\n$\\\\frac{2}{3} (16^{3/2} - 1) = \\\\frac{2}{3} (64 - 1) = \\\\frac{2}{3} (63) = 2 \\\\times 21 = 42$.\\nThe approximation is close.\\n\\nFinal check of the calculations.\\nThe values of $\\\\lfloor \\\\sqrt{n} \\\\rfloor$ were calculated correctly.\\nThe grouping and summation of terms were done correctly.\\nThe alternative method using the range of $n$ for each value of $\\\\lfloor \\\\sqrt{n} \\\\rfloor$ also yielded the same result.\\nThe generalized formula was derived and tested with smaller examples.\\nThe calculation using the formula for $m=16$ matches the direct calculation.\\n\"],\n",
       " 'attempt': 'Solution:\\nWe want to compute the sum $S = \\\\lfloor \\\\sqrt{1} \\\\rfloor + \\\\lfloor \\\\sqrt{2} \\\\rfloor + \\\\lfloor \\\\sqrt{3} \\\\rfloor + \\\\cdots + \\\\lfloor \\\\sqrt{16} \\\\rfloor$.\\nWe evaluate $\\\\lfloor \\\\sqrt{n} \\\\rfloor$ for each $n$ from 1 to 16:\\n\\\\begin{align*} \\\\lfloor \\\\sqrt{1} \\\\rfloor &= 1, \\\\quad \\\\lfloor \\\\sqrt{2} \\\\rfloor = 1, \\\\quad \\\\lfloor \\\\sqrt{3} \\\\rfloor = 1 \\\\\\\\ \\\\lfloor \\\\sqrt{4} \\\\rfloor &= 2, \\\\quad \\\\lfloor \\\\sqrt{5} \\\\rfloor = 2, \\\\quad \\\\lfloor \\\\sqrt{6} \\\\rfloor = 2, \\\\quad \\\\lfloor \\\\sqrt{7} \\\\rfloor = 2, \\\\quad \\\\lfloor \\\\sqrt{8} \\\\rfloor = 2 \\\\\\\\ \\\\lfloor \\\\sqrt{9} \\\\rfloor &= 3, \\\\quad \\\\lfloor \\\\sqrt{10} \\\\rfloor = 3, \\\\quad \\\\lfloor \\\\sqrt{11} \\\\rfloor = 3, \\\\quad \\\\lfloor \\\\sqrt{12} \\\\rfloor = 3, \\\\quad \\\\lfloor \\\\sqrt{13} \\\\rfloor = 3, \\\\quad \\\\lfloor \\\\sqrt{14} \\\\rfloor = 3, \\\\quad \\\\lfloor \\\\sqrt{15} \\\\rfloor = 3 \\\\\\\\ \\\\lfloor \\\\sqrt{16} \\\\rfloor &= 4 \\\\end{align*}\\nThe sum is $S = 1 + 1 + 1 + 2 + 2 + 2 + 2 + 2 + 3 + 3 + 3 + 3 + 3 + 3 + 3 + 4$.\\nGrouping the terms with the same value:\\nThe value 1 appears 3 times.\\nThe value 2 appears 5 times.\\nThe value 3 appears 7 times.\\nThe value 4 appears 1 time.\\nSo, the sum is $S = (1 \\\\times 3) + (2 \\\\times 5) + (3 \\\\times 7) + (4 \\\\times 1) = 3 + 10 + 21 + 4 = 38$.\\n\\nAlternatively, we can consider the ranges of $n$ for which $\\\\lfloor \\\\sqrt{n} \\\\rfloor$ takes a constant value.\\n$\\\\lfloor \\\\sqrt{n} \\\\rfloor = k \\\\iff k \\\\le \\\\sqrt{n} < k+1 \\\\iff k^2 \\\\le n < (k+1)^2$.\\nIf $\\\\lfloor \\\\sqrt{n} \\\\rfloor = 1$, then $1 \\\\le n < 4$, so $n=1, 2, 3$.\\nIf $\\\\lfloor \\\\sqrt{n} \\\\rfloor = 2$, then $4 \\\\le n < 9$, so $n=4, 5, 6, 7, 8$.\\nIf $\\\\lfloor \\\\sqrt{n} \\\\rfloor = 3$, then $9 \\\\le n < 16$, so $n=9, 10, 11, 12, 13, 14, 15$.\\nIf $\\\\lfloor \\\\sqrt{n} \\\\rfloor = 4$, then $16 \\\\le n < 25$, and for $n \\\\le 16$, we have $n=16$.\\nThe sum can be written as:\\n$1 \\\\times (\\\\text{number of } n \\\\text{ such that } \\\\lfloor \\\\sqrt{n} \\\\rfloor = 1) + 2 \\\\times (\\\\text{number of } n \\\\text{ such that } \\\\lfloor \\\\sqrt{n} \\\\rfloor = 2) + \\\\cdots$\\n$S = 1 \\\\times 3 + 2 \\\\times 5 + 3 \\\\times 7 + 4 \\\\times 1 = 3 + 10 + 21 + 4 = 38$.\\n\\nFinal Answer: The final answer is $\\\\boxed{38}$'}"
      ]
     },
     "execution_count": 23,
     "metadata": {},
     "output_type": "execute_result"
    }
   ],
   "source": [
    "dataset[0]"
   ]
  },
  {
   "cell_type": "code",
   "execution_count": null,
   "metadata": {},
   "outputs": [],
   "source": []
  }
 ],
 "metadata": {
  "kernelspec": {
   "display_name": "openai_evals",
   "language": "python",
   "name": "python3"
  },
  "language_info": {
   "codemirror_mode": {
    "name": "ipython",
    "version": 3
   },
   "file_extension": ".py",
   "mimetype": "text/x-python",
   "name": "python",
   "nbconvert_exporter": "python",
   "pygments_lexer": "ipython3",
   "version": "3.10.14"
  }
 },
 "nbformat": 4,
 "nbformat_minor": 2
}
